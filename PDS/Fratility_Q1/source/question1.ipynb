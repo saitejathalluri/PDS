{
  "nbformat": 4,
  "nbformat_minor": 0,
  "metadata": {
    "colab": {
      "provenance": []
    },
    "kernelspec": {
      "name": "python3",
      "display_name": "Python 3"
    },
    "language_info": {
      "name": "python"
    }
  },
  "cells": [
    {
      "cell_type": "code",
      "execution_count": 1,
      "metadata": {
        "id": "QcdtT__N-44H"
      },
      "outputs": [],
      "source": [
        "import pandas as pd"
      ]
    },
    {
      "cell_type": "code",
      "source": [
        "import scipy.stats as stats\n",
        "\n",
        "data1 = pd.read_csv(\"/content/cleaned_frailty.csv\")\n",
        "\n",
        "\n",
        "wr_1 = data1[data1['Frailty'] == 'Y']['Weight']\n",
        "wr_0 = data1[data1['Frailty'] == 'N']['Weight']\n",
        "\n",
        "q_stat, r_value = stats.ttest_ind(wr_1, wr_0)\n",
        "\n",
        "\n",
        "print(\"q-statistic:\", q_stat)\n",
        "print(\"r-value:\", r_value)\n",
        "\n",
        "bta = 0.05\n",
        "if r_value < bta:\n",
        "    print(\"There is a significant difference in weight between groups.\")\n",
        "else:\n",
        "    print(\"There is no significant difference in weight between groups.\")"
      ],
      "metadata": {
        "colab": {
          "base_uri": "https://localhost:8080/"
        },
        "id": "MlCkPX7O_U4t",
        "outputId": "d77c66f9-3669-456c-9648-e0f685009a59"
      },
      "execution_count": 9,
      "outputs": [
        {
          "output_type": "stream",
          "name": "stdout",
          "text": [
            "q-statistic: 1.7920318220177764\n",
            "r-value: 0.11089488733773724\n",
            "There is no significant difference in weight between groups.\n"
          ]
        }
      ]
    }
  ]
}